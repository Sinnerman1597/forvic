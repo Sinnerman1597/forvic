{
 "cells": [
  {
   "cell_type": "code",
   "execution_count": null,
   "id": "b64ce71d",
   "metadata": {},
   "outputs": [],
   "source": [
    "import numpy as np\n",
    "import pandas as pd\n",
    "from sklearn.metrics import mean_squared_error, r2_score\n",
    "from sklearn.model_selection import train_test_split, GridSearchCV\n",
    "import xgboost as xgb\n",
    "import joblib\n",
    "\n",
    "one_m_data = pd.read_csv('./processed_data.csv')\n",
    "\n",
    "y = one_m_data[\"popularity\"].values\n",
    "X = one_m_data.drop([\"popularity\"],axis=1)\n",
    "X_train, X_test, y_train, y_test = train_test_split(X, y, test_size=0.2, random_state=42)\n",
    "\n",
    "xgbr = xgb.XGBRegressor(objective=\"reg:squarederror\", random_state=42)\n",
    "\n",
    "param_grid = {\n",
    "    'learning_rate': [0.05, 0.1, 0.15, 0.2, 0.25, 0.3, 0.35, 0.4],  # 学习率\n",
    "    'max_depth': [3, 5, 7, 9, 11, 13, 15, 17, 19, 21],  # 最大深度\n",
    "    'n_estimators': [100, 150, 200, 250, 300],  # 树的数量\n",
    "    'colsample_bytree': [0.4, 0.6, 0.8],\n",
    "    'tree_method': [\"auto\", \"exact\", \"approx\"]\n",
    "}\n",
    "\n",
    "grid_search = GridSearchCV(estimator=xgbr, param_grid=param_grid, cv=5, scoring='neg_mean_squared_error', n_jobs=-1)\n",
    "grid_search.fit(X_train, y_train)\n",
    "\n",
    "# 輸出最佳超参數\n",
    "print(\"Best Parameters:\", grid_search.best_params_)\n",
    "\n",
    "# 獲得最佳模型\n",
    "best_xgbr = grid_search.best_estimator_\n",
    "\n",
    "joblib.dump(best_xgbr, 'xgboost.pkl')\n",
    "y_pred = best_xgbr.predict(X_test)\n",
    "\n",
    "mse = mean_squared_error(y_test, y_pred)\n",
    "r2 = r2_score(y_test, y_pred)\n",
    "\n",
    "print(f\"Mean Squared Error (MSE): {mse:.2f}\")\n",
    "print(f\"R-squared (R2): {r2:.2f}\")"
   ]
  }
 ],
 "metadata": {
  "kernelspec": {
   "display_name": "Python 3 (ipykernel)",
   "language": "python",
   "name": "python3"
  },
  "language_info": {
   "codemirror_mode": {
    "name": "ipython",
    "version": 3
   },
   "file_extension": ".py",
   "mimetype": "text/x-python",
   "name": "python",
   "nbconvert_exporter": "python",
   "pygments_lexer": "ipython3",
   "version": "3.9.17"
  }
 },
 "nbformat": 4,
 "nbformat_minor": 5
}
