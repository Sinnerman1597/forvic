{
 "cells": [
  {
   "cell_type": "code",
   "execution_count": 1,
   "id": "023d0dd8",
   "metadata": {},
   "outputs": [
    {
     "data": {
      "text/plain": [
       "['LR_model']"
      ]
     },
     "execution_count": 1,
     "metadata": {},
     "output_type": "execute_result"
    }
   ],
   "source": [
    "# Save Model Using joblib\n",
    "import numpy as np\n",
    "import joblib\n",
    "from sklearn.linear_model import LinearRegression\n",
    "\n",
    "model = LinearRegression(fit_intercept=False)\n",
    "X_train = np.random.rand(1000, 5)*100\n",
    "y_train = np.sum(X_train, axis=1)\n",
    "model.fit(X_train, y_train)\n",
    "joblib.dump(model, 'LR_model')"
   ]
  },
  {
   "cell_type": "code",
   "execution_count": 2,
   "id": "3f7573d3",
   "metadata": {},
   "outputs": [
    {
     "name": "stdout",
     "output_type": "stream",
     "text": [
      "[15.]\n"
     ]
    }
   ],
   "source": [
    "# load the model from disk\n",
    "import numpy as np\n",
    "import joblib\n",
    "\n",
    "loaded_model = joblib.load('LR_model')\n",
    "result = loaded_model.predict(np.array([[1, 2, 3, 4, 5]]))\n",
    "print(result)"
   ]
  }
 ],
 "metadata": {
  "kernelspec": {
   "display_name": "Python 3 (ipykernel)",
   "language": "python",
   "name": "python3"
  },
  "language_info": {
   "codemirror_mode": {
    "name": "ipython",
    "version": 3
   },
   "file_extension": ".py",
   "mimetype": "text/x-python",
   "name": "python",
   "nbconvert_exporter": "python",
   "pygments_lexer": "ipython3",
   "version": "3.9.16"
  }
 },
 "nbformat": 4,
 "nbformat_minor": 5
}
